{
 "cells": [
  {
   "cell_type": "markdown",
   "id": "0f48bfcd-d530-4edd-9e0d-1d2c8c9649f0",
   "metadata": {},
   "source": [
    "# ASTR 19 Final Project"
   ]
  },
  {
   "cell_type": "markdown",
   "id": "fb017511-9ef9-48e2-ac0a-a74cccada86e",
   "metadata": {},
   "source": [
    "## Step 3: Following the Tutorial"
   ]
  },
  {
   "cell_type": "markdown",
   "id": "bb7e49e5-600f-4bb4-8044-6ad955413bd6",
   "metadata": {},
   "source": [
    "Import libraries & set up"
   ]
  },
  {
   "cell_type": "code",
   "execution_count": null,
   "id": "8a67bdce-36a7-47f0-b0fd-c57647e1214f",
   "metadata": {},
   "outputs": [],
   "source": [
    "import numpy as np\n",
    "import sep as sep\n",
    "from astropy.io import fits\n",
    "import matplotlib.pyplot as plt\n",
    "from matplotlib import rcParams\n",
    "\n",
    "%matplotlib inline\n",
    "\n",
    "rcParams['figure.figsize'] = [10., 8.]"
   ]
  },
  {
   "cell_type": "markdown",
   "id": "d8ae25bd-3732-4810-a550-879c04f6946b",
   "metadata": {},
   "source": [
    "Import matplotlib style guide"
   ]
  },
  {
   "cell_type": "code",
   "execution_count": null,
   "id": "291639f8-b5e1-4865-9fbc-214c5220ca1f",
   "metadata": {},
   "outputs": [],
   "source": [
    "plt.style.use(\"Downloads/astr19_matplotlib_defaults.txt\")"
   ]
  },
  {
   "cell_type": "markdown",
   "id": "92a7b97f-11a1-4340-abbe-72c6c9287824",
   "metadata": {},
   "source": [
    "### Reading an example image from FITS file and display it"
   ]
  },
  {
   "cell_type": "markdown",
   "id": "4d264a88-bf56-41f7-bba6-600e71bf897d",
   "metadata": {},
   "source": [
    "Use astropy to open the FITS file and get its data."
   ]
  },
  {
   "cell_type": "code",
   "execution_count": null,
   "id": "c574e2a8-aacb-48a0-8f97-246d581b29a4",
   "metadata": {},
   "outputs": [],
   "source": [
    "#read image into standard 2-d numpy array\n",
    "data = fits.open(\"Downloads/image.fits\")\n",
    "image_data = fits.getdata(\"Downloads/image.fits\", ext=0)"
   ]
  },
  {
   "cell_type": "markdown",
   "id": "f0810587-1a4b-48e0-827a-1aee6700e79d",
   "metadata": {},
   "source": [
    "Use numpy to find the mean and standard deviation of the image data and show it on a figure with a colorbar."
   ]
  },
  {
   "cell_type": "code",
   "execution_count": null,
   "id": "7895b95a-16f1-4d06-aa0b-d9d7ddde8568",
   "metadata": {},
   "outputs": [],
   "source": [
    "#show the image\n",
    "m, s = np.mean(image_data), np.std(image_data)\n",
    "plt.imshow(image_data, interpolation='nearest', cmap='gray', vmin=m-s, vmax=m+s, origin='lower')\n",
    "plt.colorbar();\n",
    "#save the imaege as a PNG\n",
    "plt.savefig('final-project-image1.png', bbox_inches='tight', dpi=400, facecolor='white')"
   ]
  },
  {
   "cell_type": "markdown",
   "id": "d29754d8-af72-4b2f-af68-a117f47d9bcc",
   "metadata": {},
   "source": [
    "## Background subtraction in sep\n",
    "\n",
    "background estimation & source detection are separate steps in SEP"
   ]
  },
  {
   "cell_type": "code",
   "execution_count": null,
   "id": "615444b4-65d2-4958-a213-745ca85dc7fd",
   "metadata": {},
   "outputs": [],
   "source": [
    "#measure a spatially varying background on the image\n",
    "bkg = sep.Background(image_data)"
   ]
  },
  {
   "cell_type": "code",
   "execution_count": null,
   "id": "1c652b34-a904-4e2d-aeba-87b53dba4653",
   "metadata": {},
   "outputs": [],
   "source": [
    "#get a 'global' mean and noise of the image background\n",
    "print(bkg.globalback)\n",
    "print(bkg.globalrms)"
   ]
  },
  {
   "cell_type": "code",
   "execution_count": null,
   "id": "a6b0c469-3842-41e0-a0b7-da08a4ef0480",
   "metadata": {},
   "outputs": [],
   "source": [
    "#evaluate background as 2-d array, same size as original image\n",
    "bkg_image = bkg.back()\n",
    "# bkg_image = np.array(bkg) is equivalent to above"
   ]
  },
  {
   "cell_type": "code",
   "execution_count": null,
   "id": "f1d45cc3-e426-472d-ac38-b0abc1648284",
   "metadata": {},
   "outputs": [],
   "source": [
    "#show the background\n",
    "plt.imshow(bkg_image, interpolation='nearest', cmap='gray', origin='lower')\n",
    "plt.colorbar();\n",
    "#save the image as a PNG\n",
    "plt.savefig('final-project-image2.png', bbox_inches='tight', dpi=400, facecolor='white')"
   ]
  },
  {
   "cell_type": "code",
   "execution_count": null,
   "id": "1ac56ad8-28ba-4a6c-8e5f-516307122082",
   "metadata": {},
   "outputs": [],
   "source": [
    "#evaluate the background noise as 2-d array, same size as original image\n",
    "bkg_rms = bkg.rms()"
   ]
  },
  {
   "cell_type": "code",
   "execution_count": null,
   "id": "9c992110-639f-49ad-95aa-2dea464814e5",
   "metadata": {},
   "outputs": [],
   "source": [
    "#show the background noise\n",
    "plt.imshow(bkg_rms, interpolation='nearest', cmap='gray', origin='lower')\n",
    "plt.colorbar();\n",
    "#save the image as a PNG\n",
    "plt.savefig('final-project-image3.png', bbox_inches='tight', dpi=400, facecolor='white')"
   ]
  },
  {
   "cell_type": "code",
   "execution_count": null,
   "id": "674f5a16-a9a9-45da-8537-baeb90b0973c",
   "metadata": {},
   "outputs": [],
   "source": [
    "#subtract the background\n",
    "data_sub = image_data - bkg"
   ]
  },
  {
   "cell_type": "markdown",
   "id": "f9ccb481-7be1-456d-991b-ba9c51a9d7de",
   "metadata": {},
   "source": [
    "## Object detection on background-subtracted data\n",
    "### setting detection threshold to be a constant value of 1.5σ"
   ]
  },
  {
   "cell_type": "code",
   "execution_count": null,
   "id": "ff88fa67-f88d-4208-8701-42f5a32f04a2",
   "metadata": {},
   "outputs": [],
   "source": [
    "objects = sep.extract(data_sub, 1.5, err=bkg.globalrms)"
   ]
  },
  {
   "cell_type": "code",
   "execution_count": null,
   "id": "35a2f3c5-159e-4b8c-8879-34b5e0140fa8",
   "metadata": {},
   "outputs": [],
   "source": [
    "#how many objects were detected\n",
    "len(objects)"
   ]
  },
  {
   "cell_type": "code",
   "execution_count": null,
   "id": "2b8606fb-fa0a-4e50-b955-c296086e0cfc",
   "metadata": {},
   "outputs": [],
   "source": [
    "from matplotlib.patches import Ellipse\n",
    "\n",
    "#plot background-subtracted image\n",
    "fig, ax = plt.subplots()\n",
    "m, s = np.mean(data_sub), np.std(data_sub)\n",
    "im = ax.imshow(data_sub, interpolation='nearest', cmap='gray', vmin=m-s, vmax=m+s, origin='lower')\n",
    "\n",
    "#plot an ellipse for each object\n",
    "for i in range (len(objects)):\n",
    "    e = Ellipse(xy=(objects['x'][i], objects['y'][i]),\n",
    "                    width=6*objects['a'][i],\n",
    "                    height=6*objects['b'][i],\n",
    "                    angle=objects['theta'][i] * 180./np.pi)\n",
    "    e.set_facecolor('none')\n",
    "    e.set_edgecolor('red')\n",
    "    ax.add_artist(e)\n",
    "#save the image as a PNG\n",
    "plt.savefig('final-project-image4.png', bbox_inches='tight', dpi=400, facecolor='white')"
   ]
  },
  {
   "cell_type": "markdown",
   "id": "7679cadd-666e-4a30-ba63-5b8e04de3705",
   "metadata": {},
   "source": [
    "'objects' has many other fields!"
   ]
  },
  {
   "cell_type": "code",
   "execution_count": null,
   "id": "e9707927-d0d7-4f1e-aa6c-bfe77dd8b0a1",
   "metadata": {},
   "outputs": [],
   "source": [
    "#available fields\n",
    "objects.dtype.names"
   ]
  },
  {
   "cell_type": "markdown",
   "id": "f7f96273-c07f-4a9a-99a0-10c9b740534f",
   "metadata": {},
   "source": [
    "## Aperture photometry"
   ]
  },
  {
   "cell_type": "markdown",
   "id": "0548524d-237e-47c8-b899-d6edc578fa52",
   "metadata": {},
   "source": [
    "Perform simple circular aperture photometry with a 3-pixel radius at the locations of the objects"
   ]
  },
  {
   "cell_type": "code",
   "execution_count": null,
   "id": "7c4476eb-61f5-4d7f-a9b3-7033a8cb123f",
   "metadata": {},
   "outputs": [],
   "source": [
    "flux, fluxerr, flag = sep.sum_circle(data_sub, objects['x'], objects['y'], 3.0, err=bkg.globalrms, gain=1.0)\n",
    "#flux, fluxerr, and flag are 1-d arrays with 1 entry/object"
   ]
  },
  {
   "cell_type": "code",
   "execution_count": null,
   "id": "1eb79387-5d4b-49df-a61b-a8250664891c",
   "metadata": {},
   "outputs": [],
   "source": [
    "#show the first 10 objects results\n",
    "for i in range(10):\n",
    "    print(\"object {:d}: flux={:f} +/- {:f}\". format(i, flux[i], fluxerr[i]))"
   ]
  }
 ],
 "metadata": {
  "kernelspec": {
   "display_name": "Python 3 (ipykernel)",
   "language": "python",
   "name": "python3"
  },
  "language_info": {
   "codemirror_mode": {
    "name": "ipython",
    "version": 3
   },
   "file_extension": ".py",
   "mimetype": "text/x-python",
   "name": "python",
   "nbconvert_exporter": "python",
   "pygments_lexer": "ipython3",
   "version": "3.11.5"
  }
 },
 "nbformat": 4,
 "nbformat_minor": 5
}
